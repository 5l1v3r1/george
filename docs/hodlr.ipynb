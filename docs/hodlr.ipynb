{
 "cells": [
  {
   "cell_type": "code",
   "execution_count": 1,
   "metadata": {
    "collapsed": true
   },
   "outputs": [],
   "source": [
    "%matplotlib inline\n",
    "%config InlineBackend.figure_format = \"retina\"\n",
    "\n",
    "from __future__ import print_function\n",
    "\n",
    "from matplotlib import rcParams\n",
    "rcParams[\"savefig.dpi\"] = 100\n",
    "rcParams[\"figure.dpi\"] = 100\n",
    "rcParams[\"font.size\"] = 20"
   ]
  },
  {
   "cell_type": "code",
   "execution_count": 51,
   "metadata": {
    "collapsed": true
   },
   "outputs": [],
   "source": [
    "import numpy as np\n",
    "import matplotlib.pyplot as plt"
   ]
  },
  {
   "cell_type": "code",
   "execution_count": 311,
   "metadata": {
    "collapsed": true
   },
   "outputs": [],
   "source": [
    "N = 101\n",
    "x = np.sort(np.random.uniform(0, 10, N))\n",
    "tau = x[:, None] - x[None, :]\n",
    "K = np.exp(-0.5 * tau**2) * np.cos(2*np.pi*np.abs(tau))\n",
    "K[np.diag_indices_from(K)] += 0.1\n",
    "# K = K[:N//2, N//2:]"
   ]
  },
  {
   "cell_type": "code",
   "execution_count": 312,
   "metadata": {
    "collapsed": false
   },
   "outputs": [],
   "source": [
    "def low_rank_approx(K,\n",
    "                    start_row=0, n_rows=None,\n",
    "                    start_col=0, n_cols=None,\n",
    "                    tol=1.234e-5, max_rank=None, seed=None):\n",
    "    rng = np.random.RandomState(seed)\n",
    "    \n",
    "    n_rows = K.shape[0] - start_row if n_rows is None else n_rows\n",
    "    n_cols = K.shape[1] - start_col if n_cols is None else n_cols\n",
    "    if max_rank is None:\n",
    "        max_rank = min(n_rows, n_cols)\n",
    "    U = np.empty((n_rows, max_rank))\n",
    "    V = np.empty((n_cols, max_rank))\n",
    "\n",
    "    rank = 0\n",
    "    index = np.arange(n_rows)\n",
    "    norm = 0.0\n",
    "    finished = False\n",
    "    rows = slice(start_row, start_row+n_rows)\n",
    "    cols = slice(start_col, start_col+n_cols)\n",
    "    \n",
    "    while True:\n",
    "        while True:\n",
    "            if not len(index):\n",
    "                finished = True\n",
    "                break\n",
    "            k = rng.randint(len(index))\n",
    "            i = index[k]\n",
    "            index[k] = index[-1]\n",
    "            index = index[:-1]\n",
    "            \n",
    "            row = (K[start_row+i, cols] -\n",
    "                   np.dot(U[i, :rank], V[:, :rank].T))\n",
    "            j = np.argmax(np.abs(row))\n",
    "            if np.abs(row[j]) > 1e-14:\n",
    "                break\n",
    "                        \n",
    "        if finished:\n",
    "            if not rank:\n",
    "                print(\"failed\")\n",
    "                if n_cols <= n_rows:\n",
    "                    return K[rows, cols], np.eye(n_cols)\n",
    "                return np.eye(n_rows), K[rows, cols].T\n",
    "            break\n",
    "        \n",
    "        row /= row[j]\n",
    "        V[:, rank] = row\n",
    "        \n",
    "        U[:, rank] = col = (K[rows, start_col+j] -\n",
    "                            np.dot(U[:, :rank], V[j, :rank]))\n",
    "        \n",
    "        rank += 1\n",
    "        if rank >= max_rank:\n",
    "            break\n",
    "    \n",
    "        rowcol_norm = np.dot(row, row) * np.dot(col, col)\n",
    "        if rowcol_norm < tol**2 * norm:\n",
    "            break\n",
    "        \n",
    "        norm += rowcol_norm\n",
    "        s = np.dot(U[:, :rank-1].T, col)\n",
    "        norm += 2 * np.sum(np.abs(s))\n",
    "        s = np.dot(V[:, :rank-1].T, row)\n",
    "        norm += 2 * np.sum(np.abs(s))\n",
    "    \n",
    "    return U[:, :rank], V[:, :rank]\n",
    "\n",
    "U, V = low_rank_approx(K, N//2, N-N//2, 0, N//2, seed=42)"
   ]
  },
  {
   "cell_type": "code",
   "execution_count": 313,
   "metadata": {
    "collapsed": false
   },
   "outputs": [
    {
     "data": {
      "text/plain": [
       "((51, 18), (50, 18), (51, 50))"
      ]
     },
     "execution_count": 313,
     "metadata": {},
     "output_type": "execute_result"
    }
   ],
   "source": [
    "U.shape, V.shape, K[N//2:, :N//2].shape"
   ]
  },
  {
   "cell_type": "code",
   "execution_count": 314,
   "metadata": {
    "collapsed": false
   },
   "outputs": [
    {
     "data": {
      "text/plain": [
       "<matplotlib.image.AxesImage at 0x124b9ceb8>"
      ]
     },
     "execution_count": 314,
     "metadata": {},
     "output_type": "execute_result"
    },
    {
     "data": {
      "image/png": "[encoded data removed]",
      "text/plain": [
       "<matplotlib.figure.Figure at 0x1222bec18>"
      ]
     },
     "metadata": {
      "image/png": {
       "height": 362,
       "width": 355
      }
     },
     "output_type": "display_data"
    }
   ],
   "source": [
    "plt.imshow(K[N//2:, :N//2], interpolation=\"nearest\")"
   ]
  },
  {
   "cell_type": "code",
   "execution_count": 315,
   "metadata": {
    "collapsed": false
   },
   "outputs": [
    {
     "data": {
      "text/plain": [
       "<matplotlib.image.AxesImage at 0x124bfebe0>"
      ]
     },
     "execution_count": 315,
     "metadata": {},
     "output_type": "execute_result"
    },
    {
     "data": {
      "image/png": "[encoded data removed]",
      "text/plain": [
       "<matplotlib.figure.Figure at 0x124b516d8>"
      ]
     },
     "metadata": {
      "image/png": {
       "height": 362,
       "width": 355
      }
     },
     "output_type": "display_data"
    }
   ],
   "source": [
    "plt.imshow(np.dot(U, V.T), interpolation=\"nearest\")"
   ]
  },
  {
   "cell_type": "code",
   "execution_count": 316,
   "metadata": {
    "collapsed": false
   },
   "outputs": [
    {
     "data": {
      "text/plain": [
       "<matplotlib.colorbar.Colorbar at 0x124c939e8>"
      ]
     },
     "execution_count": 316,
     "metadata": {},
     "output_type": "execute_result"
    },
    {
     "data": {
      "image/png": "[encoded data removed]",
      "text/plain": [
       "<matplotlib.figure.Figure at 0x124bcd4a8>"
      ]
     },
     "metadata": {
      "image/png": {
       "height": 379,
       "width": 437
      }
     },
     "output_type": "display_data"
    }
   ],
   "source": [
    "plt.imshow((K[N//2:, :N//2] - np.dot(U, V.T)), interpolation=\"nearest\")\n",
    "plt.colorbar()"
   ]
  },
  {
   "cell_type": "code",
   "execution_count": null,
   "metadata": {
    "collapsed": true
   },
   "outputs": [],
   "source": []
  },
  {
   "cell_type": "code",
   "execution_count": 339,
   "metadata": {
    "collapsed": false
   },
   "outputs": [],
   "source": [
    "from scipy.linalg import lu_factor, lu_solve\n",
    "\n",
    "class Node(object):\n",
    "    \n",
    "    def __init__(self, K,\n",
    "                 start=0, size=None,\n",
    "                 tol=1.234e-5, min_size=100,\n",
    "                 seed=None):\n",
    "        size = K.shape[0] if size is None else size\n",
    "        self.start = start\n",
    "        self.size = size\n",
    "        if size > min_size:\n",
    "            self.U, self.V = low_rank_approx(\n",
    "                K,\n",
    "                start_row=start+size//2,\n",
    "                n_rows=size-size//2,\n",
    "                start_col=start,\n",
    "                n_cols=size//2,\n",
    "                tol=tol, seed=seed)\n",
    "            \n",
    "            rank = self.V.shape[1]\n",
    "            self.K = np.eye(2*rank)\n",
    "            self.K[:rank, rank:] = np.dot(self.U.T, self.U)\n",
    "            self.K[rank:, :rank] = np.dot(self.V.T, self.V)\n",
    "\n",
    "            self.is_leaf = False\n",
    "            self.children = [\n",
    "                Node(K, start, size//2,\n",
    "                     tol, min_size),\n",
    "                Node(K, start+size//2, size-size//2,\n",
    "                     tol, min_size),\n",
    "            ]\n",
    "            \n",
    "        else:\n",
    "            self.is_leaf = True\n",
    "            self.children = []\n",
    "            # Don't forget the diagonal\n",
    "            self.K = np.array(K[start:start+size, start:start+size])\n",
    "        \n",
    "        self.K = lu_factor(self.K, overwrite_a=True)\n",
    "    \n",
    "    def __repr__(self):\n",
    "        return (\"Node({0.start_row}, {0.n_rows}, \"\n",
    "                \"{0.start_col}, {0.n_cols})\").format(self)\n",
    "    \n",
    "    def apply_inverse(self, x, start):\n",
    "        if self.is_leaf:\n",
    "            start = self.start - start\n",
    "            x[start:start+self.size] = lu_solve(self.K, x[start:start+self.size])\n",
    "            \n",
    "    def log_determinant(self):\n",
    "        logdet = np.sum(np.log(np.abs(np.diag(self.K[0]))))\n",
    "        for child in self.children:\n",
    "            logdet += child.log_determinant()\n",
    "        return logdet"
   ]
  },
  {
   "cell_type": "code",
   "execution_count": 340,
   "metadata": {
    "collapsed": false
   },
   "outputs": [],
   "source": [
    "root = Node(K, seed=42, min_size=10)"
   ]
  },
  {
   "cell_type": "code",
   "execution_count": 341,
   "metadata": {
    "collapsed": false
   },
   "outputs": [
    {
     "data": {
      "text/plain": [
       "-55.185118321296407"
      ]
     },
     "execution_count": 341,
     "metadata": {},
     "output_type": "execute_result"
    }
   ],
   "source": [
    "root.log_determinant()"
   ]
  },
  {
   "cell_type": "code",
   "execution_count": 342,
   "metadata": {
    "collapsed": false
   },
   "outputs": [
    {
     "data": {
      "text/plain": [
       "(1.0, -163.67731577167658)"
      ]
     },
     "execution_count": 342,
     "metadata": {},
     "output_type": "execute_result"
    }
   ],
   "source": [
    "np.linalg.slogdet(K)"
   ]
  },
  {
   "cell_type": "code",
   "execution_count": 304,
   "metadata": {
    "collapsed": false
   },
   "outputs": [],
   "source": [
    "x = np.random.randn(N, 5)\n",
    "x0 = np.array(x)"
   ]
  },
  {
   "cell_type": "code",
   "execution_count": 305,
   "metadata": {
    "collapsed": false
   },
   "outputs": [],
   "source": [
    "root.children[0].children[0].children[0].children[0].apply_inverse(x, 0)"
   ]
  },
  {
   "cell_type": "code",
   "execution_count": 306,
   "metadata": {
    "collapsed": false
   },
   "outputs": [
    {
     "data": {
      "text/plain": [
       "array([[ -0.03923113,  -8.36562445,  10.2144537 ,   1.10624199,\n",
       "         -3.27041698],\n",
       "       [ -0.40610951,   6.15431081, -14.77046646,  -2.65001003,\n",
       "          3.97901915],\n",
       "       [ 11.52845775,  -2.01248032,  10.26827782,   8.07112127,\n",
       "          4.88649793],\n",
       "       [ -3.99225822,  10.96376208,   0.8075978 ,  -0.2798934 ,\n",
       "          0.45895297],\n",
       "       [ -8.13491143,  -6.78481199,  -1.50975917,  -5.71341169,\n",
       "         -6.25646171],\n",
       "       [  0.17170966,  -3.65209488,  -0.99685414,  -0.20744147,\n",
       "          0.11579928],\n",
       "       [  0.        ,   0.        ,   0.        ,   0.        ,   0.        ],\n",
       "       [  0.        ,   0.        ,   0.        ,   0.        ,   0.        ],\n",
       "       [  0.        ,   0.        ,   0.        ,   0.        ,   0.        ],\n",
       "       [  0.        ,   0.        ,   0.        ,   0.        ,   0.        ],\n",
       "       [  0.        ,   0.        ,   0.        ,   0.        ,   0.        ],\n",
       "       [  0.        ,   0.        ,   0.        ,   0.        ,   0.        ],\n",
       "       [  0.        ,   0.        ,   0.        ,   0.        ,   0.        ],\n",
       "       [  0.        ,   0.        ,   0.        ,   0.        ,   0.        ],\n",
       "       [  0.        ,   0.        ,   0.        ,   0.        ,   0.        ],\n",
       "       [  0.        ,   0.        ,   0.        ,   0.        ,   0.        ],\n",
       "       [  0.        ,   0.        ,   0.        ,   0.        ,   0.        ],\n",
       "       [  0.        ,   0.        ,   0.        ,   0.        ,   0.        ],\n",
       "       [  0.        ,   0.        ,   0.        ,   0.        ,   0.        ],\n",
       "       [  0.        ,   0.        ,   0.        ,   0.        ,   0.        ],\n",
       "       [  0.        ,   0.        ,   0.        ,   0.        ,   0.        ],\n",
       "       [  0.        ,   0.        ,   0.        ,   0.        ,   0.        ],\n",
       "       [  0.        ,   0.        ,   0.        ,   0.        ,   0.        ],\n",
       "       [  0.        ,   0.        ,   0.        ,   0.        ,   0.        ],\n",
       "       [  0.        ,   0.        ,   0.        ,   0.        ,   0.        ],\n",
       "       [  0.        ,   0.        ,   0.        ,   0.        ,   0.        ],\n",
       "       [  0.        ,   0.        ,   0.        ,   0.        ,   0.        ],\n",
       "       [  0.        ,   0.        ,   0.        ,   0.        ,   0.        ],\n",
       "       [  0.        ,   0.        ,   0.        ,   0.        ,   0.        ],\n",
       "       [  0.        ,   0.        ,   0.        ,   0.        ,   0.        ],\n",
       "       [  0.        ,   0.        ,   0.        ,   0.        ,   0.        ],\n",
       "       [  0.        ,   0.        ,   0.        ,   0.        ,   0.        ],\n",
       "       [  0.        ,   0.        ,   0.        ,   0.        ,   0.        ],\n",
       "       [  0.        ,   0.        ,   0.        ,   0.        ,   0.        ],\n",
       "       [  0.        ,   0.        ,   0.        ,   0.        ,   0.        ],\n",
       "       [  0.        ,   0.        ,   0.        ,   0.        ,   0.        ],\n",
       "       [  0.        ,   0.        ,   0.        ,   0.        ,   0.        ],\n",
       "       [  0.        ,   0.        ,   0.        ,   0.        ,   0.        ],\n",
       "       [  0.        ,   0.        ,   0.        ,   0.        ,   0.        ],\n",
       "       [  0.        ,   0.        ,   0.        ,   0.        ,   0.        ],\n",
       "       [  0.        ,   0.        ,   0.        ,   0.        ,   0.        ],\n",
       "       [  0.        ,   0.        ,   0.        ,   0.        ,   0.        ],\n",
       "       [  0.        ,   0.        ,   0.        ,   0.        ,   0.        ],\n",
       "       [  0.        ,   0.        ,   0.        ,   0.        ,   0.        ],\n",
       "       [  0.        ,   0.        ,   0.        ,   0.        ,   0.        ],\n",
       "       [  0.        ,   0.        ,   0.        ,   0.        ,   0.        ],\n",
       "       [  0.        ,   0.        ,   0.        ,   0.        ,   0.        ],\n",
       "       [  0.        ,   0.        ,   0.        ,   0.        ,   0.        ],\n",
       "       [  0.        ,   0.        ,   0.        ,   0.        ,   0.        ],\n",
       "       [  0.        ,   0.        ,   0.        ,   0.        ,   0.        ],\n",
       "       [  0.        ,   0.        ,   0.        ,   0.        ,   0.        ],\n",
       "       [  0.        ,   0.        ,   0.        ,   0.        ,   0.        ],\n",
       "       [  0.        ,   0.        ,   0.        ,   0.        ,   0.        ],\n",
       "       [  0.        ,   0.        ,   0.        ,   0.        ,   0.        ],\n",
       "       [  0.        ,   0.        ,   0.        ,   0.        ,   0.        ],\n",
       "       [  0.        ,   0.        ,   0.        ,   0.        ,   0.        ],\n",
       "       [  0.        ,   0.        ,   0.        ,   0.        ,   0.        ],\n",
       "       [  0.        ,   0.        ,   0.        ,   0.        ,   0.        ],\n",
       "       [  0.        ,   0.        ,   0.        ,   0.        ,   0.        ],\n",
       "       [  0.        ,   0.        ,   0.        ,   0.        ,   0.        ],\n",
       "       [  0.        ,   0.        ,   0.        ,   0.        ,   0.        ],\n",
       "       [  0.        ,   0.        ,   0.        ,   0.        ,   0.        ],\n",
       "       [  0.        ,   0.        ,   0.        ,   0.        ,   0.        ],\n",
       "       [  0.        ,   0.        ,   0.        ,   0.        ,   0.        ],\n",
       "       [  0.        ,   0.        ,   0.        ,   0.        ,   0.        ],\n",
       "       [  0.        ,   0.        ,   0.        ,   0.        ,   0.        ],\n",
       "       [  0.        ,   0.        ,   0.        ,   0.        ,   0.        ],\n",
       "       [  0.        ,   0.        ,   0.        ,   0.        ,   0.        ],\n",
       "       [  0.        ,   0.        ,   0.        ,   0.        ,   0.        ],\n",
       "       [  0.        ,   0.        ,   0.        ,   0.        ,   0.        ],\n",
       "       [  0.        ,   0.        ,   0.        ,   0.        ,   0.        ],\n",
       "       [  0.        ,   0.        ,   0.        ,   0.        ,   0.        ],\n",
       "       [  0.        ,   0.        ,   0.        ,   0.        ,   0.        ],\n",
       "       [  0.        ,   0.        ,   0.        ,   0.        ,   0.        ],\n",
       "       [  0.        ,   0.        ,   0.        ,   0.        ,   0.        ],\n",
       "       [  0.        ,   0.        ,   0.        ,   0.        ,   0.        ],\n",
       "       [  0.        ,   0.        ,   0.        ,   0.        ,   0.        ],\n",
       "       [  0.        ,   0.        ,   0.        ,   0.        ,   0.        ],\n",
       "       [  0.        ,   0.        ,   0.        ,   0.        ,   0.        ],\n",
       "       [  0.        ,   0.        ,   0.        ,   0.        ,   0.        ],\n",
       "       [  0.        ,   0.        ,   0.        ,   0.        ,   0.        ],\n",
       "       [  0.        ,   0.        ,   0.        ,   0.        ,   0.        ],\n",
       "       [  0.        ,   0.        ,   0.        ,   0.        ,   0.        ],\n",
       "       [  0.        ,   0.        ,   0.        ,   0.        ,   0.        ],\n",
       "       [  0.        ,   0.        ,   0.        ,   0.        ,   0.        ],\n",
       "       [  0.        ,   0.        ,   0.        ,   0.        ,   0.        ],\n",
       "       [  0.        ,   0.        ,   0.        ,   0.        ,   0.        ],\n",
       "       [  0.        ,   0.        ,   0.        ,   0.        ,   0.        ],\n",
       "       [  0.        ,   0.        ,   0.        ,   0.        ,   0.        ],\n",
       "       [  0.        ,   0.        ,   0.        ,   0.        ,   0.        ],\n",
       "       [  0.        ,   0.        ,   0.        ,   0.        ,   0.        ],\n",
       "       [  0.        ,   0.        ,   0.        ,   0.        ,   0.        ],\n",
       "       [  0.        ,   0.        ,   0.        ,   0.        ,   0.        ],\n",
       "       [  0.        ,   0.        ,   0.        ,   0.        ,   0.        ],\n",
       "       [  0.        ,   0.        ,   0.        ,   0.        ,   0.        ],\n",
       "       [  0.        ,   0.        ,   0.        ,   0.        ,   0.        ],\n",
       "       [  0.        ,   0.        ,   0.        ,   0.        ,   0.        ],\n",
       "       [  0.        ,   0.        ,   0.        ,   0.        ,   0.        ],\n",
       "       [  0.        ,   0.        ,   0.        ,   0.        ,   0.        ],\n",
       "       [  0.        ,   0.        ,   0.        ,   0.        ,   0.        ]])"
      ]
     },
     "execution_count": 306,
     "metadata": {},
     "output_type": "execute_result"
    }
   ],
   "source": [
    "x - x0"
   ]
  },
  {
   "cell_type": "code",
   "execution_count": 331,
   "metadata": {
    "collapsed": false
   },
   "outputs": [
    {
     "data": {
      "text/plain": [
       "-163.67731577167658"
      ]
     },
     "execution_count": 331,
     "metadata": {},
     "output_type": "execute_result"
    }
   ],
   "source": [
    "np.sum(np.log(np.abs(np.diag(lu_factor(K)[0]))))"
   ]
  },
  {
   "cell_type": "code",
   "execution_count": 332,
   "metadata": {
    "collapsed": false
   },
   "outputs": [
    {
     "data": {
      "text/plain": [
       "(1.0, -163.67731577167658)"
      ]
     },
     "execution_count": 332,
     "metadata": {},
     "output_type": "execute_result"
    }
   ],
   "source": [
    "np.linalg.slogdet(K)"
   ]
  },
  {
   "cell_type": "code",
   "execution_count": null,
   "metadata": {
    "collapsed": true
   },
   "outputs": [],
   "source": []
  }
 ],
 "metadata": {
  "kernelspec": {
   "display_name": "Python 3",
   "language": "python",
   "name": "python3"
  },
  "language_info": {
   "codemirror_mode": {
    "name": "ipython",
    "version": 3
   },
   "file_extension": ".py",
   "mimetype": "text/x-python",
   "name": "python",
   "nbconvert_exporter": "python",
   "pygments_lexer": "ipython3",
   "version": "3.6.0"
  }
 },
 "nbformat": 4,
 "nbformat_minor": 2
}
